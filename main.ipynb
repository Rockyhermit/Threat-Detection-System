{
 "cells": [
  {
   "cell_type": "code",
   "execution_count": 1,
   "id": "a6cd1d27",
   "metadata": {},
   "outputs": [
    {
     "name": "stderr",
     "output_type": "stream",
     "text": [
      "\u001b[34m\u001b[1mdetect: \u001b[0mweights=['yolov5\\\\runs\\\\train\\\\exp\\\\weights\\\\best.pt'], source=0, data=yolov5\\data\\coco128.yaml, imgsz=[640, 640], conf_thres=0.53, iou_thres=0.45, max_det=1000, device=, view_img=False, save_txt=False, save_conf=False, save_crop=False, nosave=False, classes=None, agnostic_nms=False, augment=False, visualize=False, update=False, project=yolov5\\runs\\detect, name=exp, exist_ok=False, line_thickness=3, hide_labels=False, hide_conf=False, half=False, dnn=False, vid_stride=1\n",
      "YOLOv5  2023-4-8 Python-3.12.7 torch-2.5.1+cpu CPU\n",
      "\n",
      "C:\\Users\\prath\\Desktop\\Pra_Projects\\kkk\\yolov5\\models\\experimental.py:79: FutureWarning: You are using `torch.load` with `weights_only=False` (the current default value), which uses the default pickle module implicitly. It is possible to construct malicious pickle data which will execute arbitrary code during unpickling (See https://github.com/pytorch/pytorch/blob/main/SECURITY.md#untrusted-models for more details). In a future release, the default value for `weights_only` will be flipped to `True`. This limits the functions that could be executed during unpickling. Arbitrary objects will no longer be allowed to be loaded via this mode unless they are explicitly allowlisted by the user via `torch.serialization.add_safe_globals`. We recommend you start setting `weights_only=True` for any use case where you don't have full control of the loaded file. Please open an issue on GitHub for any issues related to this experimental feature.\n",
      "  ckpt = torch.load(attempt_download(w), map_location='cpu')  # load\n",
      "Fusing layers... \n",
      "Model summary: 157 layers, 7015519 parameters, 0 gradients\n",
      "1/1: 0...  Success (inf frames 640x480 at 30.00 FPS)\n",
      "\n",
      "0: 480x640 (no detections), 54.2ms\n",
      "0: 480x640 (no detections), 41.5ms\n",
      "0: 480x640 (no detections), 37.5ms\n",
      "0: 480x640 (no detections), 40.4ms\n",
      "0: 480x640 (no detections), 42.1ms\n",
      "0: 480x640 (no detections), 39.1ms\n",
      "0: 480x640 (no detections), 40.5ms\n",
      "0: 480x640 (no detections), 41.0ms\n",
      "0: 480x640 (no detections), 39.4ms\n",
      "0: 480x640 (no detections), 40.4ms\n",
      "0: 480x640 (no detections), 38.9ms\n",
      "0: 480x640 (no detections), 42.0ms\n",
      "0: 480x640 (no detections), 41.0ms\n",
      "0: 480x640 (no detections), 40.1ms\n",
      "0: 480x640 (no detections), 41.0ms\n",
      "0: 480x640 (no detections), 39.0ms\n",
      "0: 480x640 (no detections), 41.1ms\n",
      "0: 480x640 (no detections), 40.2ms\n",
      "0: 480x640 (no detections), 38.5ms\n",
      "0: 480x640 (no detections), 42.8ms\n",
      "0: 480x640 (no detections), 40.5ms\n",
      "0: 480x640 (no detections), 41.8ms\n",
      "0: 480x640 (no detections), 40.2ms\n",
      "0: 480x640 (no detections), 41.9ms\n",
      "0: 480x640 (no detections), 40.4ms\n",
      "0: 480x640 (no detections), 38.6ms\n",
      "0: 480x640 (no detections), 42.5ms\n",
      "0: 480x640 (no detections), 40.8ms\n",
      "0: 480x640 (no detections), 39.5ms\n",
      "0: 480x640 (no detections), 40.0ms\n",
      "0: 480x640 (no detections), 40.5ms\n",
      "0: 480x640 (no detections), 40.9ms\n",
      "Speed: 0.5ms pre-process, 40.9ms inference, 0.1ms NMS per image at shape (1, 3, 640, 640)\n",
      "Results saved to \u001b[1myolov5\\runs\\detect\\exp2\u001b[0m\n"
     ]
    }
   ],
   "source": [
    "# Use this after training to detect threat on given source video\n",
    "!python yolov5\\detect.py --weights yolov5\\runs\\train\\exp\\weights\\best.pt --img 640 --conf 0.53 --source 0"
   ]
  }
 ],
 "metadata": {
  "kernelspec": {
   "display_name": "Python 3 (ipykernel)",
   "language": "python",
   "name": "python3"
  },
  "language_info": {
   "codemirror_mode": {
    "name": "ipython",
    "version": 3
   },
   "file_extension": ".py",
   "mimetype": "text/x-python",
   "name": "python",
   "nbconvert_exporter": "python",
   "pygments_lexer": "ipython3",
   "version": "3.12.7"
  }
 },
 "nbformat": 4,
 "nbformat_minor": 5
}
